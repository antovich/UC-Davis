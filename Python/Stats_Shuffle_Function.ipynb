{
 "cells": [
  {
   "cell_type": "markdown",
   "metadata": {},
   "source": [
    "This uses data from the UN to determine whether education spending (% of total governmental spending dedicated to education) differs between countries with high vs low human development indices. The HD index was developed by the UN, and takes into account life expectancy, years of schooling, and national income per capita."
   ]
  },
  {
   "cell_type": "code",
   "execution_count": 1,
   "metadata": {
    "collapsed": true
   },
   "outputs": [],
   "source": [
    "import pandas as pd\n",
    "import numpy as np\n",
    "import matplotlib.pyplot as plt\n",
    "import statsmodels"
   ]
  },
  {
   "cell_type": "code",
   "execution_count": 2,
   "metadata": {
    "collapsed": true
   },
   "outputs": [],
   "source": [
    "educate = pd.read_csv('https://raw.githubusercontent.com/antovich/PyPSC290/master/UNEducationSpending.csv')\n",
    "develop = pd.read_csv('https://raw.githubusercontent.com/antovich/PyPSC290/master/UNHumanDevelopmentIndex.csv')\n",
    "\n",
    "# merge datasets based on country, only using data that overlaps between datasets\n",
    "df = pd.merge(left=educate, right=develop, left_on='Reference Area', right_on='Country', how='inner')\n"
   ]
  },
  {
   "cell_type": "code",
   "execution_count": 3,
   "metadata": {},
   "outputs": [
    {
     "name": "stdout",
     "output_type": "stream",
     "text": [
      "12.3871397436 16.480137 4.09299725641\n"
     ]
    }
   ],
   "source": [
    "# sort by countries' HD index rank\n",
    "df = df.sort_values('HDI rank')\n",
    "\n",
    "# get mean for 40 countries with highest HD\n",
    "highest = df[0:39]\n",
    "highmean = highest['Observation Value'].mean()\n",
    "\n",
    "# get mean for 40 countries with lowest HD\n",
    "lowest = df[len(df)-40:len(df)]\n",
    "lowmean = lowest['Observation Value'].mean()\n",
    "\n",
    "#difference between low and high HDI countries\n",
    "meandiff = lowmean-highmean\n",
    "\n",
    "print(highmean, lowmean, meandiff)"
   ]
  },
  {
   "cell_type": "code",
   "execution_count": 4,
   "metadata": {},
   "outputs": [
    {
     "name": "stdout",
     "output_type": "stream",
     "text": [
      "0.00010\n"
     ]
    }
   ],
   "source": [
    "#ttest compare highest ranking and lowest ranking HDI countries percent of GNI spend on education\n",
    "from statsmodels.stats.weightstats import ttest_ind\n",
    "t, p, dof = ttest_ind(highest['Observation Value'], lowest['Observation Value'],usevar='unequal')\n",
    "print ('%.5f' %p)"
   ]
  },
  {
   "cell_type": "markdown",
   "metadata": {},
   "source": [
    "Somewhat unexpectedly, countries with lowest HDI rankings spent a greater portion of their GNI on education than higher HDI. Perhaps this is because they have smaller overall budgets, so education takes up a larger portion of the funds.\n",
    "\n",
    "Instead of the using a t-test, we could shuffle the high and low groups percent GNI data points to create a distribution of possible difference scores. "
   ]
  },
  {
   "cell_type": "code",
   "execution_count": 14,
   "metadata": {
    "scrolled": true
   },
   "outputs": [],
   "source": [
    "# create new 'split' variable to add label for low vs. high HDI rankings\n",
    "highest['split'] = 'high'\n",
    "lowest['split'] = 'low'\n",
    "\n",
    "#new dataframe with low and high HDI ranking countries data\n",
    "df = pd.concat([highest, lowest])"
   ]
  },
  {
   "cell_type": "code",
   "execution_count": 17,
   "metadata": {
    "scrolled": true
   },
   "outputs": [
    {
     "data": {
      "image/png": "[encoded data removed]",
      "text/plain": [
       "<matplotlib.figure.Figure at 0x10c4e4780>"
      ]
     },
     "metadata": {},
     "output_type": "display_data"
    },
    {
     "name": "stdout",
     "output_type": "stream",
     "text": [
      "p = 0.00010\n"
     ]
    }
   ],
   "source": [
    "# Function to shuffle group labels for two groups numShuffle number of times,\n",
    "# then take the mean difference between the shuffled groups for each iteration,\n",
    "# print histogram of mean differences and p-value for proportion of values that are more\n",
    "# extreme in the sample distribution than in the observed mean difference\n",
    "\n",
    "# Groups to compare labeled as groupLab1 and groupLab2 in the shuffleCol column of dataframe df\n",
    "# Data to average stored in dataCol column of dataframe df\n",
    "# Number of bins to plot in histogram stored in numBins\n",
    "\n",
    "def shuffleTest(df, dataCol, shuffleCol, groupLab1, groupLab2, numShuffle, numBins):\n",
    "\n",
    "    # get observed difference between means\n",
    "    mean1 = df[dataCol][df[shuffleCol] == groupLab1].mean()\n",
    "    mean2 = df[dataCol][df[shuffleCol] == groupLab2].mean()\n",
    "    obsDiff = mean1 - mean2\n",
    "    \n",
    "    # creates temporary DF for use in the for loop below\n",
    "    dfTemp = df.copy()\n",
    "    \n",
    "    # initiate array for sample means for the for loop below\n",
    "    sampMean = np.zeros((numShuffle))\n",
    "    \n",
    "    # shuffle group labels numShuffle number of times and \n",
    "    # find mean diff between groups for each sample, stored in sampMean\n",
    "    for i in range(numShuffle - 1):\n",
    "        dfTemp[shuffleCol] = np.random.permutation(dfTemp[shuffleCol])\n",
    "        sampMean[i] = dfTemp[dataCol][dfTemp[shuffleCol] == groupLab1].mean() - dfTemp[dataCol][dfTemp[shuffleCol] == groupLab2].mean()\n",
    "    \n",
    "    # Get nonparametric p-value (proportion of sample mean differences more extreme than the observed mean difference)\n",
    "    p = sum(abs(sampMean) >= abs(obsDiff))/numShuffle\n",
    "    \n",
    "    # plot the frequency of sample mean differences using numBins number of bins\n",
    "    plt.hist(sampMean, bins = numBins)\n",
    "    plt.show()\n",
    "    print('p = %.5f' %p)\n",
    "\n",
    "shuffleTest(df=df, dataCol='Observation Value', shuffleCol='split', groupLab1='high', groupLab2='low', numShuffle=10000, numBins = 30)"
   ]
  },
  {
   "cell_type": "markdown",
   "metadata": {},
   "source": [
    "The shuffleTest function returns a similar p-value to the ttest from ttest_ind in statsmodels"
   ]
  }
 ],
 "metadata": {
  "kernelspec": {
   "display_name": "Python 3",
   "language": "python",
   "name": "python3"
  },
  "language_info": {
   "codemirror_mode": {
    "name": "ipython",
    "version": 3
   },
   "file_extension": ".py",
   "mimetype": "text/x-python",
   "name": "python",
   "nbconvert_exporter": "python",
   "pygments_lexer": "ipython3",
   "version": "3.6.0"
  }
 },
 "nbformat": 4,
 "nbformat_minor": 2
}
