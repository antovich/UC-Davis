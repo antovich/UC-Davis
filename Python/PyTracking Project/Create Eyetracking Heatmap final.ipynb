{
 "cells": [
  {
   "cell_type": "markdown",
   "metadata": {},
   "source": [
    "# Create Eyetracking Heatmap"
   ]
  },
  {
   "cell_type": "code",
   "execution_count": 168,
   "metadata": {
    "collapsed": false
   },
   "outputs": [],
   "source": [
    "# Import the necessary packages\n",
    "import pandas as pd\n",
    "import numpy as np\n",
    "import matplotlib.pyplot as plt\n",
    "from PIL import Image\n",
    "from matplotlib import image"
   ]
  },
  {
   "cell_type": "code",
   "execution_count": 70,
   "metadata": {
    "collapsed": false
   },
   "outputs": [],
   "source": [
    "# Set the variables\n",
    "\n",
    "file = 'https://raw.githubusercontent.com/antovich/PyTrackingFinalProject/master/VSTM%20Data%20P18.txt'\n",
    "\n",
    "stimCol = 'MediaName'\n",
    "\n",
    "stimName = 'VSTM Green Yellow.jpg'\n",
    "\n",
    "xCoordCol = 'GazePointX (MCSpx)'\n",
    "\n",
    "yCoordCol = 'GazePointY (MCSpx)'\n",
    "\n",
    "stimWidth = 1360\n",
    "\n",
    "stimHeight = 768\n",
    "\n",
    "origin = 'upper'\n",
    "\n",
    "title = stimName"
   ]
  },
  {
   "cell_type": "code",
   "execution_count": 195,
   "metadata": {
    "collapsed": false
   },
   "outputs": [],
   "source": [
    "class heatmap():\n",
    "    \n",
    "    def __init__(self, data, kind = 'file'):\n",
    "        self.data = self.load_data(file)\n",
    "        self.subset = []\n",
    "    \n",
    "    def load_data(self, data, kind = 'file'):\n",
    "        if kind == 'file':\n",
    "            self.filetype = data[-3:]\n",
    "            if self.filetype == 'csv':\n",
    "                self.data = pd.read_csv(data)\n",
    "            elif self.filetype == 'txt':\n",
    "                self.data = pd.read_table(data)\n",
    "            else:\n",
    "                raise Exception(\"Error: unsupported file type, please convert to .csv or .txt\")\n",
    "        \n",
    "        elif kind == 'pandasdataframe':\n",
    "            self.data = data\n",
    "        \n",
    "        else:\n",
    "            raise Exception(\"Error: please indicate data as file or pandasdataframe\")\n",
    "        \n",
    "        return self.data\n",
    "    \n",
    "    def select_data(self, stimCol, stimName, xCoordCol, yCoordCol):\n",
    "        # Subset the dataframe for only the specified stimulus\n",
    "        self.subset = self.data.ix[self.data[stimCol] == stimName]\n",
    "        \n",
    "        # Remove nulls from columns of interest (leaving only instances with x and y coordinates)\n",
    "        self.subset = self.subset[self.subset[xCoordCol].notnull()]\n",
    "        self.subset = self.subset[self.subset[yCoordCol].notnull()]\n",
    "        \n",
    "        #return self.subset\n",
    "    \n",
    "    def draw_heatmap(self, stimWidth, stimHeight, xCoordCol, yCoordCol, xbins, ybins, title, \n",
    "                     origin = 'upper', transparent = 'no'):\n",
    "        # pull the x and y coordinates\n",
    "        x = self.subset[xCoordCol]\n",
    "        y = self.subset[yCoordCol]\n",
    "\n",
    "        # set the size of the plot to the dimensions of the stimulus\n",
    "        heatmap, xedges, yedges = np.histogram2d(x, y, bins=(xbins,ybins))\n",
    "        \n",
    "        extent = [1, stimWidth, 1, stimHeight]\n",
    "        \n",
    "        if transparent == 'no':\n",
    "\n",
    "            # Plot heatmap\n",
    "            plt.clf()\n",
    "            plt.title(title)\n",
    "            plt.ylabel('y')\n",
    "            plt.xlabel('x')\n",
    "            plt.imshow(heatmap, extent=extent, origin = origin)\n",
    "            plt.show()\n",
    "        \n",
    "        elif transparent == 'yes':\n",
    "            img = np.zeros((xbins,ybins,4))\n",
    "        \n",
    "            img[:,:,0] = heatmap/heatmap.max()\n",
    "            img[:,:,1] = np.zeros_like(heatmap)\n",
    "            img[:,:,2] = np.zeros_like(heatmap)\n",
    "            img[:,:,3] = heatmap/heatmap.max()\n",
    "            \n",
    "            plt.imshow(img, extent=extent, origin= origin)\n",
    "            plt.show()\n",
    "        \n",
    "        \n",
    "        else:\n",
    "            raise Exception(\"Error: please specify superimpose as yes or no\")\n",
    "        "
   ]
  },
  {
   "cell_type": "code",
   "execution_count": 190,
   "metadata": {
    "collapsed": false
   },
   "outputs": [],
   "source": [
    "test = heatmap(file, kind='file')"
   ]
  },
  {
   "cell_type": "code",
   "execution_count": 191,
   "metadata": {
    "collapsed": false
   },
   "outputs": [],
   "source": [
    "test.select_data(stimCol, stimName, xCoordCol, yCoordCol)"
   ]
  },
  {
   "cell_type": "code",
   "execution_count": 194,
   "metadata": {
    "collapsed": false
   },
   "outputs": [
    {
     "data": {
      "image/png": "[encoded data removed]",
      "text/plain": [
       "<matplotlib.figure.Figure at 0x11706e908>"
      ]
     },
     "metadata": {},
     "output_type": "display_data"
    }
   ],
   "source": [
    "test.draw_heatmap(stimWidth, stimHeight, xCoordCol, yCoordCol, title = stimName, transparent = 'no', xbins=100, ybins=100)"
   ]
  }
 ],
 "metadata": {
  "kernelspec": {
   "display_name": "Python 3",
   "language": "python",
   "name": "python3"
  },
  "language_info": {
   "codemirror_mode": {
    "name": "ipython",
    "version": 3
   },
   "file_extension": ".py",
   "mimetype": "text/x-python",
   "name": "python",
   "nbconvert_exporter": "python",
   "pygments_lexer": "ipython3",
   "version": "3.6.0"
  }
 },
 "nbformat": 4,
 "nbformat_minor": 2
}
