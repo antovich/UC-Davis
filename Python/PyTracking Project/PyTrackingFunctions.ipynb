{
 "cells": [
  {
   "cell_type": "code",
   "execution_count": 26,
   "metadata": {
    "collapsed": true
   },
   "outputs": [],
   "source": [
    "def ImportGazeFile (filename):\n",
    "    import pandas as pd\n",
    "    data = pd.read_csv(filename, sep= \"\\t\")\n",
    "    return(data)"
   ]
  },
  {
   "cell_type": "code",
   "execution_count": 30,
   "metadata": {
    "collapsed": true
   },
   "outputs": [],
   "source": [
    "def GazeData(AOIOneCoor, AOITwoCoor, xcoor, ycoor, subs, time, stim):\n",
    "    \n",
    "    import numpy as np\n",
    "    import pandas as pd\n",
    "\n",
    "    \n",
    "    #the AOI variables expect a list of length 4: xmin, ymin, xmax, ymax\n",
    "    AOIOneXmin = AOIOneCoor[0] \n",
    "    AOIOneYmin = AOIOneCoor[1] \n",
    "    AOIOneXmax = AOIOneCoor[2] \n",
    "    AOIOneYmax = AOIOneCoor[3]\n",
    "\n",
    "    AOITwoXmin = AOITwoCoor[0] \n",
    "    AOITwoYmin = AOITwoCoor[1]  \n",
    "    AOITwoXmax = AOITwoCoor[2]  \n",
    "    AOITwoYmax = AOITwoCoor[3] \n",
    "    \n",
    "    # create mask for AOI hits based on dimensions above\n",
    "    AOIOne = (AOIOneXmin <= xcoor) & (xcoor <= AOIOneXmax) & (AOIOneYmin <= ycoor) & (ycoor <= AOIOneYmax)\n",
    "    AOITwo = (AOITwoXmin <= xcoor) & (xcoor <= AOITwoXmax) & (AOITwoYmin <= ycoor) & (ycoor <= AOITwoYmax)\n",
    "\n",
    "    trialNum = []\n",
    "    trialList = []\n",
    "    trialLen = []\n",
    "    curstim = []\n",
    "    subList = []\n",
    "    gazedur1 = []\n",
    "    gazedur2 = []\n",
    "    for subID in set(subs):\n",
    "        #get index of trial changes, based on change in stim name, 'MediaName' variable\n",
    "        trials = np.roll(stim[subs == subID],1)!=stim[subs == subID] # onset of change in trial\n",
    "        trialsOFF = np.roll(stim[subs == subID],-1)!=stim[subs == subID] # offset of change in trial\n",
    "        trialLen.extend(np.subtract(time[subs == subID][trialsOFF], time[subs == subID][trials]))# build list of trial lengths for output dataframe\n",
    "        trialNum.extend(trials.cumsum()) #get trial number by increasing trial number each time a new trial onset is found\n",
    "        trialList.extend(np.unique(trialNum)) # build list of trials by subject for output dataframe\n",
    "        subList.extend([subID]*len(trialList)) # build list of subjects for output dataframe\n",
    "\n",
    "        for Trial in np.unique(trialNum):\n",
    "\n",
    "            # Get onset/offset of gaze event changes for current subject and trial for AOIOne\n",
    "            eventON1 = np.roll(AOIOne[subs == subID][trialNum == Trial],1) != AOIOne[subs == subID][trialNum == Trial]\n",
    "            eventOFF1 = np.roll(AOIOne[subs == subID][trialNum == Trial],-1) != AOIOne[subs == subID][trialNum == Trial]\n",
    "\n",
    "            # Get onset/offset of gaze event changes for current subject and trial for AOITwo\n",
    "            eventON2 = np.roll(AOITwo[subs == subID][trialNum == Trial],1) != AOITwo[subs == subID][trialNum == Trial]\n",
    "            eventOFF2 = np.roll(AOITwo[subs == subID][trialNum == Trial],-1) != AOITwo[subs == subID][trialNum == Trial]\n",
    "\n",
    "            curstim.append(np.array(stim[subs == subID][trialNum == Trial])[0]) # build list of stimulus name for output dataframe\n",
    "\n",
    "            # Get the difference between the gaze event onset and offset values in the timestamp, to get the total duration of gaze event, then sum up these events for the trial\n",
    "            gazedur1.append(np.subtract(time[subs == subID][trialNum == Trial][AOIOne == True][eventOFF1], time[subs == subID][trialNum == Trial][AOIOne == True][eventON1]).sum())\n",
    "            # Get the difference between the gaze event onset and offset values in the timestamp, to get the total duration of gaze event, then sum up these events for the trial\n",
    "            gazedur2.append(np.subtract(time[subs == subID][trialNum == Trial][AOITwo == True][eventOFF2], time[subs == subID][trialNum == Trial][AOITwo == True][eventON2]).sum())\n",
    "    \n",
    "    # Build data frame from lists created in for loops\n",
    "    outputDF = pd.DataFrame({'Subject': subList,\n",
    "                             'Trial': trialList,\n",
    "                             'TrialDuration_ms': trialLen,\n",
    "                             'Stimulus': curstim,\n",
    "                             'AOI_One_ms': gazedur1,\n",
    "                             'AOI_Two_ms': gazedur2})\n",
    "    outputDF = outputDF[['Subject','Trial', 'TrialDuration_ms','Stimulus', 'AOI_One_ms', 'AOI_Two_ms']]\n",
    "    return(outputDF)"
   ]
  },
  {
   "cell_type": "code",
   "execution_count": 99,
   "metadata": {},
   "outputs": [],
   "source": [
    "def GazeDataGroup (outputDF, kind):\n",
    "    import pandas as pd\n",
    "    \n",
    "    if kind == 'stim':\n",
    "        outputGROUP = outputDF.groupby(by = \"Stimulus\", as_index = False).mean() #get mean looking time to AOIs by stimulus name\n",
    "       \n",
    "    elif kind == 'sub':\n",
    "        outputGROUP = outputDF.groupby(by = \"Subject\", as_index = False).mean() #get mean looking time to AOIs by subject ID\n",
    "\n",
    "    elif kind == 'trial':\n",
    "        outputGROUP = outputDF.groupby(by = \"Trial\", as_index = False).mean() #get mean looking time to AOIs by trial ID\n",
    "    \n",
    "    \n",
    "    elif kind == 'long':   # get long format data for AOI, for stats function\n",
    "        outputGROUP = pd.melt(frame = outputDF, id_vars = ['Subject', 'Trial', 'Stimulus'], value_vars = ['AOI_One_ms','AOI_Two_ms','TrialDuration_ms'] )\n",
    "    \n",
    "    return(outputGROUP)"
   ]
  },
  {
   "cell_type": "code",
   "execution_count": 10,
   "metadata": {
    "collapsed": true
   },
   "outputs": [],
   "source": [
    "def ExportGazeData (filetitle, outputDF):\n",
    "    outputDF.to_csv(filetitle + '.csv')"
   ]
  },
  {
   "cell_type": "code",
   "execution_count": 125,
   "metadata": {},
   "outputs": [],
   "source": [
    "def PlotTrialProp(outputGROUP, kind):\n",
    "    # plots proportion of looking toward AOI one vs. AOI two for by trial (kind 'trial') or by stimulus (kind 'stim')\n",
    "    import matplotlib as plt\n",
    "    import matplotlib.ticker as ticker\n",
    "    if kind == 'stim':\n",
    "        outputGROUP.AOI1propLook = (outputGROUP.AOI_One_ms/outputGROUP.TrialDuration_ms)\n",
    "        outputGROUP.AOI2propLook = (outputGROUP.AOI_Two_ms/outputGROUP.TrialDuration_ms)\n",
    "        ax = outputGROUP.AOI1propLook.plot(color='r', figsize=(30, 10), legend = True, label = 'AOI One')\n",
    "        outputGROUP.AOI2propLook.plot(color='b', legend = True, label = 'AOI Two')\n",
    "        tick_spacing = 1\n",
    "        ax.set_xlabel('Stimulus', fontsize = 20)\n",
    "        ax.set_ylabel('Proportion of looking to AOI', fontsize = 20)\n",
    "        ax.tick_params(labelsize=10)\n",
    "        ax.set_xticklabels(outputGROUP['Stimulus'], rotation=45)\n",
    "        ax.xaxis.set_major_locator(ticker.MultipleLocator(tick_spacing))\n",
    "    elif kind == 'trial':\n",
    "        outputGROUP.AOI1propLook = (outputGROUP.AOI_One_ms/outputGROUP.TrialDuration_ms)\n",
    "        outputGROUP.AOI2propLook = (outputGROUP.AOI_Two_ms/outputGROUP.TrialDuration_ms)\n",
    "        ax = outputGROUP.AOI1propLook.plot(color='r', figsize=(30, 10), legend = True, label = 'AOI One')\n",
    "        outputGROUP.AOI2propLook.plot(color='b', legend = True, label = 'AOI Two')\n",
    "        tick_spacing = 5\n",
    "        ax.set_xlabel('Trial', fontsize = 20)\n",
    "        ax.set_ylabel('Proportion of looking to AOI', fontsize = 20)\n",
    "        ax.xaxis.set_major_locator(ticker.MultipleLocator(tick_spacing))\n",
    "        ax.tick_params(labelsize=20)"
   ]
  }
 ],
 "metadata": {
  "kernelspec": {
   "display_name": "Python 3",
   "language": "python",
   "name": "python3"
  },
  "language_info": {
   "codemirror_mode": {
    "name": "ipython",
    "version": 3
   },
   "file_extension": ".py",
   "mimetype": "text/x-python",
   "name": "python",
   "nbconvert_exporter": "python",
   "pygments_lexer": "ipython3",
   "version": "3.6.0"
  }
 },
 "nbformat": 4,
 "nbformat_minor": 2
}
