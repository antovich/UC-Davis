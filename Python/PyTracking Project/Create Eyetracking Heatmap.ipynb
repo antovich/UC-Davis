{
 "cells": [
  {
   "cell_type": "markdown",
   "metadata": {},
   "source": [
    "# Create Eyetracking Heatmap"
   ]
  },
  {
   "cell_type": "code",
   "execution_count": 1,
   "metadata": {
    "collapsed": true
   },
   "outputs": [],
   "source": [
    "# Import the necessary packages\n",
    "import pandas as pd\n",
    "import numpy as np\n",
    "import matplotlib.pyplot as plt"
   ]
  },
  {
   "cell_type": "code",
   "execution_count": 127,
   "metadata": {
    "collapsed": false
   },
   "outputs": [],
   "source": [
    "# Set the variables\n",
    "\n",
    "file = 'https://raw.githubusercontent.com/antovich/PyTrackingFinalProject/master/VSTM%20Data%20P18.txt'\n",
    "\n",
    "stimCol = 'MediaName'\n",
    "\n",
    "stimName = 'VSTM Green Yellow.jpg'\n",
    "\n",
    "xCoordCol = 'GazePointX (MCSpx)'\n",
    "\n",
    "yCoordCol = 'GazePointY (MCSpx)'\n",
    "\n",
    "stimWidth = 1360\n",
    "\n",
    "stimHeight = 768\n",
    "\n",
    "origin = 'upper'\n",
    "\n",
    "title = stimName"
   ]
  },
  {
   "cell_type": "code",
   "execution_count": 149,
   "metadata": {
    "collapsed": false
   },
   "outputs": [
    {
     "data": {
      "image/png": "[encoded data removed]",
      "text/plain": [
       "<matplotlib.figure.Figure at 0x112bdcfd0>"
      ]
     },
     "metadata": {},
     "output_type": "display_data"
    },
    {
     "data": {
      "image/png": "[encoded data removed]",
      "text/plain": [
       "<matplotlib.figure.Figure at 0x110945ba8>"
      ]
     },
     "metadata": {},
     "output_type": "display_data"
    }
   ],
   "source": [
    "data = eyeTracking.readFile(file=file)\n",
    "\n",
    "cleaned = eyeTracking.cleanData(data, stimCol, stimName, xCoordCol, yCoordCol)\n",
    "\n",
    "eyeTracking.drawHeatmap(cleaned, stimWidth, stimHeight)\n",
    "\n",
    "eyeTracking.transparentHeatmap(heatmap)"
   ]
  },
  {
   "cell_type": "code",
   "execution_count": 148,
   "metadata": {
    "collapsed": false
   },
   "outputs": [],
   "source": [
    "class eyeTracking:\n",
    "    \n",
    "    def readFile(file):\n",
    "        filetype = file[-3:]\n",
    "        if filetype == 'csv':\n",
    "            data = pd.read_csv(file)\n",
    "        elif filetype == 'txt':\n",
    "            data = pd.read_table(file)\n",
    "        else:\n",
    "            print('eyeTracking error: unsupported file type, please convert to .csv or .txt')\n",
    "        return data\n",
    "    \n",
    "    def cleanData(data, stimCol, stimName, xCoordCol, yCoordCol):\n",
    "        # Subset the dataframe for only the specified stimulus\n",
    "        cleaned = data.ix[data[stimCol] == stimName]\n",
    "        \n",
    "        # Remove nulls from columns of interest (leaving only instances with x and y coordinates)\n",
    "        cleaned = cleaned[cleaned[xCoordCol].notnull()]\n",
    "        cleaned = cleaned[cleaned[yCoordCol].notnull()]\n",
    "        \n",
    "        return cleaned\n",
    "    \n",
    "    def drawHeatmap(cleaned, stimWidth, stimHeight, title = stimName, origin = 'upper'):\n",
    "        # pull the x and y coordinates\n",
    "        x = cleaned[xCoordCol]\n",
    "        y = cleaned[yCoordCol]\n",
    "\n",
    "        # set the size of the plot to the dimensions of the stimulus\n",
    "        #heatmap, xedges, yedges = np.histogram2d(x, y, bins=(stimWidth,stimHeight))\n",
    "        #extent = [xedges[0], xedges[-1], yedges[0], yedges[-1]]\n",
    "        \n",
    "        extent = [1, stimWidth, 1, stimHeight]\n",
    " \n",
    "        # Plot heatmap\n",
    "        plt.clf()\n",
    "        plt.title(title)\n",
    "        plt.ylabel('y')\n",
    "        plt.xlabel('x')\n",
    "        plt.imshow(heatmap, extent=extent, origin = origin)\n",
    "        plt.show()\n",
    "        \n",
    "\n",
    "    def transparentHeatmap(heatmap):\n",
    "        img = np.zeros((100,100,4))\n",
    "        \n",
    "        img[:,:,0] = heatmap/heatmap.max()\n",
    "        img[:,:,1] = np.zeros_like(heatmap)\n",
    "        img[:,:,2] = np.zeros_like(heatmap)\n",
    "        img[:,:,3] = heatmap/heatmap.max()\n",
    "\n",
    "\n",
    "        plt.imshow(img, extent=extent, origin='upper')\n",
    "        #plt.savefig('title.png')\n",
    "        plt.show()"
   ]
  }
 ],
 "metadata": {
  "kernelspec": {
   "display_name": "Python 3",
   "language": "python",
   "name": "python3"
  },
  "language_info": {
   "codemirror_mode": {
    "name": "ipython",
    "version": 3
   },
   "file_extension": ".py",
   "mimetype": "text/x-python",
   "name": "python",
   "nbconvert_exporter": "python",
   "pygments_lexer": "ipython3",
   "version": "3.6.0"
  }
 },
 "nbformat": 4,
 "nbformat_minor": 2
}
